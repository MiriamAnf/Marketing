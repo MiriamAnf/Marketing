{
 "cells": [
  {
   "cell_type": "markdown",
   "metadata": {},
   "source": [
    "Análisis de un conjunto de datos en formato CSV. \n",
    "Cada fila del conjunto de datos describe una campaña de marketing con la cantidad de dinero que una empresa determinadaha empleado en tres canales diferentes (cantidad de dinero invertida en miles de euros):  \n",
    "    * televisión  \n",
    "    * radio   \n",
    "    * prensa  \n",
    "Además de una última columna que lista las ventas conseguidas en dicha campaña (miles de unidades vendidas)."
   ]
  },
  {
   "cell_type": "code",
   "execution_count": 1,
   "metadata": {},
   "outputs": [
    {
     "data": {
      "text/html": [
       "<div>\n",
       "<style scoped>\n",
       "    .dataframe tbody tr th:only-of-type {\n",
       "        vertical-align: middle;\n",
       "    }\n",
       "\n",
       "    .dataframe tbody tr th {\n",
       "        vertical-align: top;\n",
       "    }\n",
       "\n",
       "    .dataframe thead th {\n",
       "        text-align: right;\n",
       "    }\n",
       "</style>\n",
       "<table border=\"1\" class=\"dataframe\">\n",
       "  <thead>\n",
       "    <tr style=\"text-align: right;\">\n",
       "      <th></th>\n",
       "      <th>id</th>\n",
       "      <th>TV</th>\n",
       "      <th>radio</th>\n",
       "      <th>newspaper</th>\n",
       "      <th>sales</th>\n",
       "    </tr>\n",
       "  </thead>\n",
       "  <tbody>\n",
       "    <tr>\n",
       "      <th>0</th>\n",
       "      <td>1</td>\n",
       "      <td>230.1</td>\n",
       "      <td>37.8</td>\n",
       "      <td>69.2</td>\n",
       "      <td>22.1</td>\n",
       "    </tr>\n",
       "    <tr>\n",
       "      <th>1</th>\n",
       "      <td>2</td>\n",
       "      <td>44.5</td>\n",
       "      <td>39.3</td>\n",
       "      <td>45.1</td>\n",
       "      <td>10.4</td>\n",
       "    </tr>\n",
       "    <tr>\n",
       "      <th>2</th>\n",
       "      <td>3</td>\n",
       "      <td>17.2</td>\n",
       "      <td>45.9</td>\n",
       "      <td>69.3</td>\n",
       "      <td>9.3</td>\n",
       "    </tr>\n",
       "    <tr>\n",
       "      <th>3</th>\n",
       "      <td>4</td>\n",
       "      <td>151.5</td>\n",
       "      <td>41.3</td>\n",
       "      <td>58.5</td>\n",
       "      <td>18.5</td>\n",
       "    </tr>\n",
       "    <tr>\n",
       "      <th>4</th>\n",
       "      <td>5</td>\n",
       "      <td>180.8</td>\n",
       "      <td>10.8</td>\n",
       "      <td>58.4</td>\n",
       "      <td>12.9</td>\n",
       "    </tr>\n",
       "    <tr>\n",
       "      <th>...</th>\n",
       "      <td>...</td>\n",
       "      <td>...</td>\n",
       "      <td>...</td>\n",
       "      <td>...</td>\n",
       "      <td>...</td>\n",
       "    </tr>\n",
       "    <tr>\n",
       "      <th>205</th>\n",
       "      <td>196</td>\n",
       "      <td>38.2</td>\n",
       "      <td>3.7</td>\n",
       "      <td>13.8</td>\n",
       "      <td>7.6</td>\n",
       "    </tr>\n",
       "    <tr>\n",
       "      <th>206</th>\n",
       "      <td>197</td>\n",
       "      <td>94.2</td>\n",
       "      <td>4.9</td>\n",
       "      <td>8.1</td>\n",
       "      <td>9.7</td>\n",
       "    </tr>\n",
       "    <tr>\n",
       "      <th>207</th>\n",
       "      <td>198</td>\n",
       "      <td>177.0</td>\n",
       "      <td>9.3</td>\n",
       "      <td>6.4</td>\n",
       "      <td>12.8</td>\n",
       "    </tr>\n",
       "    <tr>\n",
       "      <th>208</th>\n",
       "      <td>199</td>\n",
       "      <td>NaN</td>\n",
       "      <td>42.0</td>\n",
       "      <td>66.2</td>\n",
       "      <td>25.5</td>\n",
       "    </tr>\n",
       "    <tr>\n",
       "      <th>209</th>\n",
       "      <td>200</td>\n",
       "      <td>232.1</td>\n",
       "      <td>8.6</td>\n",
       "      <td>8.7</td>\n",
       "      <td>13.4</td>\n",
       "    </tr>\n",
       "  </tbody>\n",
       "</table>\n",
       "<p>210 rows × 5 columns</p>\n",
       "</div>"
      ],
      "text/plain": [
       "      id     TV  radio  newspaper  sales\n",
       "0      1  230.1   37.8       69.2   22.1\n",
       "1      2   44.5   39.3       45.1   10.4\n",
       "2      3   17.2   45.9       69.3    9.3\n",
       "3      4  151.5   41.3       58.5   18.5\n",
       "4      5  180.8   10.8       58.4   12.9\n",
       "..   ...    ...    ...        ...    ...\n",
       "205  196   38.2    3.7       13.8    7.6\n",
       "206  197   94.2    4.9        8.1    9.7\n",
       "207  198  177.0    9.3        6.4   12.8\n",
       "208  199    NaN   42.0       66.2   25.5\n",
       "209  200  232.1    8.6        8.7   13.4\n",
       "\n",
       "[210 rows x 5 columns]"
      ]
     },
     "execution_count": 1,
     "metadata": {},
     "output_type": "execute_result"
    }
   ],
   "source": [
    "import pandas as pd \n",
    "import matplotlib.pyplot as plt\n",
    "import numpy as np \n",
    "\n",
    "sales = pd.read_csv(\"sales.csv\")\n",
    "sales"
   ]
  },
  {
   "cell_type": "markdown",
   "metadata": {},
   "source": [
    "**PRIMERA PARTE DEL PROYECTO**"
   ]
  },
  {
   "cell_type": "code",
   "execution_count": 2,
   "metadata": {},
   "outputs": [
    {
     "data": {
      "text/html": [
       "<div>\n",
       "<style scoped>\n",
       "    .dataframe tbody tr th:only-of-type {\n",
       "        vertical-align: middle;\n",
       "    }\n",
       "\n",
       "    .dataframe tbody tr th {\n",
       "        vertical-align: top;\n",
       "    }\n",
       "\n",
       "    .dataframe thead th {\n",
       "        text-align: right;\n",
       "    }\n",
       "</style>\n",
       "<table border=\"1\" class=\"dataframe\">\n",
       "  <thead>\n",
       "    <tr style=\"text-align: right;\">\n",
       "      <th></th>\n",
       "      <th>id</th>\n",
       "      <th>TV</th>\n",
       "      <th>radio</th>\n",
       "      <th>newspaper</th>\n",
       "      <th>sales</th>\n",
       "    </tr>\n",
       "  </thead>\n",
       "  <tbody>\n",
       "    <tr>\n",
       "      <th>count</th>\n",
       "      <td>210.000000</td>\n",
       "      <td>2.070000e+02</td>\n",
       "      <td>210.000000</td>\n",
       "      <td>210.000000</td>\n",
       "      <td>210.000000</td>\n",
       "    </tr>\n",
       "    <tr>\n",
       "      <th>mean</th>\n",
       "      <td>100.809524</td>\n",
       "      <td>1.449275e+10</td>\n",
       "      <td>23.200476</td>\n",
       "      <td>30.294762</td>\n",
       "      <td>13.959048</td>\n",
       "    </tr>\n",
       "    <tr>\n",
       "      <th>std</th>\n",
       "      <td>57.399481</td>\n",
       "      <td>1.198000e+11</td>\n",
       "      <td>14.827575</td>\n",
       "      <td>21.726517</td>\n",
       "      <td>5.196055</td>\n",
       "    </tr>\n",
       "    <tr>\n",
       "      <th>min</th>\n",
       "      <td>1.000000</td>\n",
       "      <td>7.000000e-01</td>\n",
       "      <td>0.000000</td>\n",
       "      <td>0.300000</td>\n",
       "      <td>1.600000</td>\n",
       "    </tr>\n",
       "    <tr>\n",
       "      <th>25%</th>\n",
       "      <td>52.250000</td>\n",
       "      <td>7.405000e+01</td>\n",
       "      <td>10.025000</td>\n",
       "      <td>12.025000</td>\n",
       "      <td>10.400000</td>\n",
       "    </tr>\n",
       "    <tr>\n",
       "      <th>50%</th>\n",
       "      <td>101.500000</td>\n",
       "      <td>1.498000e+02</td>\n",
       "      <td>22.400000</td>\n",
       "      <td>25.750000</td>\n",
       "      <td>12.900000</td>\n",
       "    </tr>\n",
       "    <tr>\n",
       "      <th>75%</th>\n",
       "      <td>149.750000</td>\n",
       "      <td>2.200500e+02</td>\n",
       "      <td>36.575000</td>\n",
       "      <td>44.900000</td>\n",
       "      <td>17.300000</td>\n",
       "    </tr>\n",
       "    <tr>\n",
       "      <th>max</th>\n",
       "      <td>200.000000</td>\n",
       "      <td>1.000000e+12</td>\n",
       "      <td>49.600000</td>\n",
       "      <td>114.000000</td>\n",
       "      <td>27.000000</td>\n",
       "    </tr>\n",
       "  </tbody>\n",
       "</table>\n",
       "</div>"
      ],
      "text/plain": [
       "               id            TV       radio   newspaper       sales\n",
       "count  210.000000  2.070000e+02  210.000000  210.000000  210.000000\n",
       "mean   100.809524  1.449275e+10   23.200476   30.294762   13.959048\n",
       "std     57.399481  1.198000e+11   14.827575   21.726517    5.196055\n",
       "min      1.000000  7.000000e-01    0.000000    0.300000    1.600000\n",
       "25%     52.250000  7.405000e+01   10.025000   12.025000   10.400000\n",
       "50%    101.500000  1.498000e+02   22.400000   25.750000   12.900000\n",
       "75%    149.750000  2.200500e+02   36.575000   44.900000   17.300000\n",
       "max    200.000000  1.000000e+12   49.600000  114.000000   27.000000"
      ]
     },
     "execution_count": 2,
     "metadata": {},
     "output_type": "execute_result"
    }
   ],
   "source": [
    "sales_description = sales.describe()\n",
    "sales_description"
   ]
  },
  {
   "cell_type": "markdown",
   "metadata": {},
   "source": [
    "El máximo de la columna \"id\" es de 200, cuando hay contabilizados 210, por lo que debe haber datos repetidos. Por lo que vamos a:  \n",
    "* Primero: limpiar el conjunto de datos de aquellas filas en las que falten datos o haya valores extraños o fuera de rango. Axis=0 (para eliminar una fila), \"any\" (elimina cualquier fila que contenga uno o más NA).  \n",
    "* Segundo: eliminar los duplicados. Elegimos \"subset\" para eliminar solo los duplicados de una determinada columna, en este caso la columna \"id\"."
   ]
  },
  {
   "cell_type": "code",
   "execution_count": 3,
   "metadata": {},
   "outputs": [
    {
     "data": {
      "text/html": [
       "<div>\n",
       "<style scoped>\n",
       "    .dataframe tbody tr th:only-of-type {\n",
       "        vertical-align: middle;\n",
       "    }\n",
       "\n",
       "    .dataframe tbody tr th {\n",
       "        vertical-align: top;\n",
       "    }\n",
       "\n",
       "    .dataframe thead th {\n",
       "        text-align: right;\n",
       "    }\n",
       "</style>\n",
       "<table border=\"1\" class=\"dataframe\">\n",
       "  <thead>\n",
       "    <tr style=\"text-align: right;\">\n",
       "      <th></th>\n",
       "      <th>id</th>\n",
       "      <th>TV</th>\n",
       "      <th>radio</th>\n",
       "      <th>newspaper</th>\n",
       "      <th>sales</th>\n",
       "    </tr>\n",
       "  </thead>\n",
       "  <tbody>\n",
       "    <tr>\n",
       "      <th>count</th>\n",
       "      <td>207.000000</td>\n",
       "      <td>2.070000e+02</td>\n",
       "      <td>207.000000</td>\n",
       "      <td>207.000000</td>\n",
       "      <td>207.000000</td>\n",
       "    </tr>\n",
       "    <tr>\n",
       "      <th>mean</th>\n",
       "      <td>100.144928</td>\n",
       "      <td>1.449275e+10</td>\n",
       "      <td>22.935266</td>\n",
       "      <td>29.914976</td>\n",
       "      <td>13.821739</td>\n",
       "    </tr>\n",
       "    <tr>\n",
       "      <th>std</th>\n",
       "      <td>57.309060</td>\n",
       "      <td>1.198000e+11</td>\n",
       "      <td>14.748775</td>\n",
       "      <td>21.623152</td>\n",
       "      <td>5.093872</td>\n",
       "    </tr>\n",
       "    <tr>\n",
       "      <th>min</th>\n",
       "      <td>1.000000</td>\n",
       "      <td>7.000000e-01</td>\n",
       "      <td>0.000000</td>\n",
       "      <td>0.300000</td>\n",
       "      <td>1.600000</td>\n",
       "    </tr>\n",
       "    <tr>\n",
       "      <th>25%</th>\n",
       "      <td>51.500000</td>\n",
       "      <td>7.405000e+01</td>\n",
       "      <td>9.950000</td>\n",
       "      <td>11.750000</td>\n",
       "      <td>10.350000</td>\n",
       "    </tr>\n",
       "    <tr>\n",
       "      <th>50%</th>\n",
       "      <td>101.000000</td>\n",
       "      <td>1.498000e+02</td>\n",
       "      <td>21.700000</td>\n",
       "      <td>25.600000</td>\n",
       "      <td>12.900000</td>\n",
       "    </tr>\n",
       "    <tr>\n",
       "      <th>75%</th>\n",
       "      <td>149.500000</td>\n",
       "      <td>2.200500e+02</td>\n",
       "      <td>36.400000</td>\n",
       "      <td>43.250000</td>\n",
       "      <td>17.150000</td>\n",
       "    </tr>\n",
       "    <tr>\n",
       "      <th>max</th>\n",
       "      <td>200.000000</td>\n",
       "      <td>1.000000e+12</td>\n",
       "      <td>49.600000</td>\n",
       "      <td>114.000000</td>\n",
       "      <td>27.000000</td>\n",
       "    </tr>\n",
       "  </tbody>\n",
       "</table>\n",
       "</div>"
      ],
      "text/plain": [
       "               id            TV       radio   newspaper       sales\n",
       "count  207.000000  2.070000e+02  207.000000  207.000000  207.000000\n",
       "mean   100.144928  1.449275e+10   22.935266   29.914976   13.821739\n",
       "std     57.309060  1.198000e+11   14.748775   21.623152    5.093872\n",
       "min      1.000000  7.000000e-01    0.000000    0.300000    1.600000\n",
       "25%     51.500000  7.405000e+01    9.950000   11.750000   10.350000\n",
       "50%    101.000000  1.498000e+02   21.700000   25.600000   12.900000\n",
       "75%    149.500000  2.200500e+02   36.400000   43.250000   17.150000\n",
       "max    200.000000  1.000000e+12   49.600000  114.000000   27.000000"
      ]
     },
     "execution_count": 3,
     "metadata": {},
     "output_type": "execute_result"
    }
   ],
   "source": [
    "analyzed_sales = sales.dropna(axis=0, how=\"any\")\n",
    "analyzed_sales.describe()"
   ]
  },
  {
   "cell_type": "code",
   "execution_count": 4,
   "metadata": {},
   "outputs": [
    {
     "data": {
      "text/html": [
       "<div>\n",
       "<style scoped>\n",
       "    .dataframe tbody tr th:only-of-type {\n",
       "        vertical-align: middle;\n",
       "    }\n",
       "\n",
       "    .dataframe tbody tr th {\n",
       "        vertical-align: top;\n",
       "    }\n",
       "\n",
       "    .dataframe thead th {\n",
       "        text-align: right;\n",
       "    }\n",
       "</style>\n",
       "<table border=\"1\" class=\"dataframe\">\n",
       "  <thead>\n",
       "    <tr style=\"text-align: right;\">\n",
       "      <th></th>\n",
       "      <th>id</th>\n",
       "      <th>TV</th>\n",
       "      <th>radio</th>\n",
       "      <th>newspaper</th>\n",
       "      <th>sales</th>\n",
       "    </tr>\n",
       "  </thead>\n",
       "  <tbody>\n",
       "    <tr>\n",
       "      <th>count</th>\n",
       "      <td>197.000000</td>\n",
       "      <td>1.970000e+02</td>\n",
       "      <td>197.000000</td>\n",
       "      <td>197.000000</td>\n",
       "      <td>197.000000</td>\n",
       "    </tr>\n",
       "    <tr>\n",
       "      <th>mean</th>\n",
       "      <td>99.796954</td>\n",
       "      <td>1.522843e+10</td>\n",
       "      <td>22.986294</td>\n",
       "      <td>30.158883</td>\n",
       "      <td>13.879188</td>\n",
       "    </tr>\n",
       "    <tr>\n",
       "      <th>std</th>\n",
       "      <td>57.788225</td>\n",
       "      <td>1.227723e+11</td>\n",
       "      <td>14.765475</td>\n",
       "      <td>21.675698</td>\n",
       "      <td>5.112512</td>\n",
       "    </tr>\n",
       "    <tr>\n",
       "      <th>min</th>\n",
       "      <td>1.000000</td>\n",
       "      <td>7.000000e-01</td>\n",
       "      <td>0.000000</td>\n",
       "      <td>0.300000</td>\n",
       "      <td>1.600000</td>\n",
       "    </tr>\n",
       "    <tr>\n",
       "      <th>25%</th>\n",
       "      <td>50.000000</td>\n",
       "      <td>7.340000e+01</td>\n",
       "      <td>9.900000</td>\n",
       "      <td>12.600000</td>\n",
       "      <td>10.300000</td>\n",
       "    </tr>\n",
       "    <tr>\n",
       "      <th>50%</th>\n",
       "      <td>100.000000</td>\n",
       "      <td>1.498000e+02</td>\n",
       "      <td>22.300000</td>\n",
       "      <td>25.600000</td>\n",
       "      <td>12.900000</td>\n",
       "    </tr>\n",
       "    <tr>\n",
       "      <th>75%</th>\n",
       "      <td>150.000000</td>\n",
       "      <td>2.203000e+02</td>\n",
       "      <td>36.300000</td>\n",
       "      <td>43.300000</td>\n",
       "      <td>17.300000</td>\n",
       "    </tr>\n",
       "    <tr>\n",
       "      <th>max</th>\n",
       "      <td>200.000000</td>\n",
       "      <td>1.000000e+12</td>\n",
       "      <td>49.600000</td>\n",
       "      <td>114.000000</td>\n",
       "      <td>27.000000</td>\n",
       "    </tr>\n",
       "  </tbody>\n",
       "</table>\n",
       "</div>"
      ],
      "text/plain": [
       "               id            TV       radio   newspaper       sales\n",
       "count  197.000000  1.970000e+02  197.000000  197.000000  197.000000\n",
       "mean    99.796954  1.522843e+10   22.986294   30.158883   13.879188\n",
       "std     57.788225  1.227723e+11   14.765475   21.675698    5.112512\n",
       "min      1.000000  7.000000e-01    0.000000    0.300000    1.600000\n",
       "25%     50.000000  7.340000e+01    9.900000   12.600000   10.300000\n",
       "50%    100.000000  1.498000e+02   22.300000   25.600000   12.900000\n",
       "75%    150.000000  2.203000e+02   36.300000   43.300000   17.300000\n",
       "max    200.000000  1.000000e+12   49.600000  114.000000   27.000000"
      ]
     },
     "execution_count": 4,
     "metadata": {},
     "output_type": "execute_result"
    }
   ],
   "source": [
    "analyzed_sales = analyzed_sales.drop_duplicates(subset=[\"id\"]) \n",
    "analyzed_sales.describe()"
   ]
  },
  {
   "cell_type": "markdown",
   "metadata": {},
   "source": [
    "Para ordenar los datos y reindexar (teniendo en cuenta los valores más grandes):"
   ]
  },
  {
   "cell_type": "code",
   "execution_count": 5,
   "metadata": {},
   "outputs": [
    {
     "data": {
      "text/html": [
       "<div>\n",
       "<style scoped>\n",
       "    .dataframe tbody tr th:only-of-type {\n",
       "        vertical-align: middle;\n",
       "    }\n",
       "\n",
       "    .dataframe tbody tr th {\n",
       "        vertical-align: top;\n",
       "    }\n",
       "\n",
       "    .dataframe thead th {\n",
       "        text-align: right;\n",
       "    }\n",
       "</style>\n",
       "<table border=\"1\" class=\"dataframe\">\n",
       "  <thead>\n",
       "    <tr style=\"text-align: right;\">\n",
       "      <th></th>\n",
       "      <th>id</th>\n",
       "      <th>TV</th>\n",
       "      <th>radio</th>\n",
       "      <th>newspaper</th>\n",
       "      <th>sales</th>\n",
       "    </tr>\n",
       "  </thead>\n",
       "  <tbody>\n",
       "    <tr>\n",
       "      <th>15</th>\n",
       "      <td>15</td>\n",
       "      <td>1.000000e+12</td>\n",
       "      <td>32.9</td>\n",
       "      <td>46.0</td>\n",
       "      <td>19.0</td>\n",
       "    </tr>\n",
       "    <tr>\n",
       "      <th>58</th>\n",
       "      <td>58</td>\n",
       "      <td>1.000000e+12</td>\n",
       "      <td>19.2</td>\n",
       "      <td>16.6</td>\n",
       "      <td>13.2</td>\n",
       "    </tr>\n",
       "    <tr>\n",
       "      <th>98</th>\n",
       "      <td>95</td>\n",
       "      <td>1.000000e+12</td>\n",
       "      <td>14.0</td>\n",
       "      <td>10.9</td>\n",
       "      <td>11.5</td>\n",
       "    </tr>\n",
       "    <tr>\n",
       "      <th>105</th>\n",
       "      <td>102</td>\n",
       "      <td>2.964000e+02</td>\n",
       "      <td>36.3</td>\n",
       "      <td>100.9</td>\n",
       "      <td>23.8</td>\n",
       "    </tr>\n",
       "    <tr>\n",
       "      <th>43</th>\n",
       "      <td>43</td>\n",
       "      <td>2.936000e+02</td>\n",
       "      <td>27.7</td>\n",
       "      <td>1.8</td>\n",
       "      <td>20.7</td>\n",
       "    </tr>\n",
       "    <tr>\n",
       "      <th>...</th>\n",
       "      <td>...</td>\n",
       "      <td>...</td>\n",
       "      <td>...</td>\n",
       "      <td>...</td>\n",
       "      <td>...</td>\n",
       "    </tr>\n",
       "    <tr>\n",
       "      <th>131</th>\n",
       "      <td>127</td>\n",
       "      <td>7.800000e+00</td>\n",
       "      <td>38.9</td>\n",
       "      <td>50.6</td>\n",
       "      <td>6.6</td>\n",
       "    </tr>\n",
       "    <tr>\n",
       "      <th>57</th>\n",
       "      <td>57</td>\n",
       "      <td>7.300000e+00</td>\n",
       "      <td>28.1</td>\n",
       "      <td>41.4</td>\n",
       "      <td>5.5</td>\n",
       "    </tr>\n",
       "    <tr>\n",
       "      <th>81</th>\n",
       "      <td>79</td>\n",
       "      <td>5.400000e+00</td>\n",
       "      <td>29.9</td>\n",
       "      <td>9.4</td>\n",
       "      <td>5.3</td>\n",
       "    </tr>\n",
       "    <tr>\n",
       "      <th>165</th>\n",
       "      <td>156</td>\n",
       "      <td>4.100000e+00</td>\n",
       "      <td>11.6</td>\n",
       "      <td>5.7</td>\n",
       "      <td>3.2</td>\n",
       "    </tr>\n",
       "    <tr>\n",
       "      <th>135</th>\n",
       "      <td>131</td>\n",
       "      <td>7.000000e-01</td>\n",
       "      <td>39.6</td>\n",
       "      <td>8.7</td>\n",
       "      <td>1.6</td>\n",
       "    </tr>\n",
       "  </tbody>\n",
       "</table>\n",
       "<p>197 rows × 5 columns</p>\n",
       "</div>"
      ],
      "text/plain": [
       "      id            TV  radio  newspaper  sales\n",
       "15    15  1.000000e+12   32.9       46.0   19.0\n",
       "58    58  1.000000e+12   19.2       16.6   13.2\n",
       "98    95  1.000000e+12   14.0       10.9   11.5\n",
       "105  102  2.964000e+02   36.3      100.9   23.8\n",
       "43    43  2.936000e+02   27.7        1.8   20.7\n",
       "..   ...           ...    ...        ...    ...\n",
       "131  127  7.800000e+00   38.9       50.6    6.6\n",
       "57    57  7.300000e+00   28.1       41.4    5.5\n",
       "81    79  5.400000e+00   29.9        9.4    5.3\n",
       "165  156  4.100000e+00   11.6        5.7    3.2\n",
       "135  131  7.000000e-01   39.6        8.7    1.6\n",
       "\n",
       "[197 rows x 5 columns]"
      ]
     },
     "execution_count": 5,
     "metadata": {},
     "output_type": "execute_result"
    }
   ],
   "source": [
    "analyzed_sales.sort_values(by=\"TV\", ascending=False) #utilizamos false para ordenar de forma descendente"
   ]
  },
  {
   "cell_type": "markdown",
   "metadata": {},
   "source": [
    "El valor más alto que encontramos dentro de los valores normales es 2.964000e+02, por lo que vamos a filtrar aquellos valores que sean menores de 300 (si, además, observamos el archivo csv, podremos ver que ningún valor es superior a este)."
   ]
  },
  {
   "cell_type": "code",
   "execution_count": 6,
   "metadata": {},
   "outputs": [
    {
     "data": {
      "text/html": [
       "<div>\n",
       "<style scoped>\n",
       "    .dataframe tbody tr th:only-of-type {\n",
       "        vertical-align: middle;\n",
       "    }\n",
       "\n",
       "    .dataframe tbody tr th {\n",
       "        vertical-align: top;\n",
       "    }\n",
       "\n",
       "    .dataframe thead th {\n",
       "        text-align: right;\n",
       "    }\n",
       "</style>\n",
       "<table border=\"1\" class=\"dataframe\">\n",
       "  <thead>\n",
       "    <tr style=\"text-align: right;\">\n",
       "      <th></th>\n",
       "      <th>id</th>\n",
       "      <th>TV</th>\n",
       "      <th>radio</th>\n",
       "      <th>newspaper</th>\n",
       "      <th>sales</th>\n",
       "    </tr>\n",
       "  </thead>\n",
       "  <tbody>\n",
       "    <tr>\n",
       "      <th>count</th>\n",
       "      <td>194.000000</td>\n",
       "      <td>194.000000</td>\n",
       "      <td>194.000000</td>\n",
       "      <td>194.000000</td>\n",
       "      <td>194.000000</td>\n",
       "    </tr>\n",
       "    <tr>\n",
       "      <th>mean</th>\n",
       "      <td>100.474227</td>\n",
       "      <td>145.444845</td>\n",
       "      <td>23.001031</td>\n",
       "      <td>30.246392</td>\n",
       "      <td>13.868557</td>\n",
       "    </tr>\n",
       "    <tr>\n",
       "      <th>std</th>\n",
       "      <td>57.831646</td>\n",
       "      <td>86.032061</td>\n",
       "      <td>14.846077</td>\n",
       "      <td>21.747570</td>\n",
       "      <td>5.135792</td>\n",
       "    </tr>\n",
       "    <tr>\n",
       "      <th>min</th>\n",
       "      <td>1.000000</td>\n",
       "      <td>0.700000</td>\n",
       "      <td>0.000000</td>\n",
       "      <td>0.300000</td>\n",
       "      <td>1.600000</td>\n",
       "    </tr>\n",
       "    <tr>\n",
       "      <th>25%</th>\n",
       "      <td>50.250000</td>\n",
       "      <td>71.300000</td>\n",
       "      <td>9.675000</td>\n",
       "      <td>12.650000</td>\n",
       "      <td>10.300000</td>\n",
       "    </tr>\n",
       "    <tr>\n",
       "      <th>50%</th>\n",
       "      <td>101.500000</td>\n",
       "      <td>148.500000</td>\n",
       "      <td>22.400000</td>\n",
       "      <td>25.600000</td>\n",
       "      <td>12.850000</td>\n",
       "    </tr>\n",
       "    <tr>\n",
       "      <th>75%</th>\n",
       "      <td>150.750000</td>\n",
       "      <td>218.475000</td>\n",
       "      <td>36.450000</td>\n",
       "      <td>43.275000</td>\n",
       "      <td>17.275000</td>\n",
       "    </tr>\n",
       "    <tr>\n",
       "      <th>max</th>\n",
       "      <td>200.000000</td>\n",
       "      <td>296.400000</td>\n",
       "      <td>49.600000</td>\n",
       "      <td>114.000000</td>\n",
       "      <td>27.000000</td>\n",
       "    </tr>\n",
       "  </tbody>\n",
       "</table>\n",
       "</div>"
      ],
      "text/plain": [
       "               id          TV       radio   newspaper       sales\n",
       "count  194.000000  194.000000  194.000000  194.000000  194.000000\n",
       "mean   100.474227  145.444845   23.001031   30.246392   13.868557\n",
       "std     57.831646   86.032061   14.846077   21.747570    5.135792\n",
       "min      1.000000    0.700000    0.000000    0.300000    1.600000\n",
       "25%     50.250000   71.300000    9.675000   12.650000   10.300000\n",
       "50%    101.500000  148.500000   22.400000   25.600000   12.850000\n",
       "75%    150.750000  218.475000   36.450000   43.275000   17.275000\n",
       "max    200.000000  296.400000   49.600000  114.000000   27.000000"
      ]
     },
     "execution_count": 6,
     "metadata": {},
     "output_type": "execute_result"
    }
   ],
   "source": [
    "analyzed_sales = analyzed_sales[analyzed_sales.TV < 300]  #aplicamos una máscara para que nos muestre solo las filas dentro de esos valores\n",
    "analyzed_sales.describe()"
   ]
  },
  {
   "cell_type": "markdown",
   "metadata": {},
   "source": [
    "Una vez hemos limpiado los datos, podemos pasar a realizar la representación gráfica de los mismos:  \n",
    "- Calculamos el coeficiente de correlación de Pearson (regresión lineal simple)  \n",
    "- Generamos la representación gráfica: fit_reg (True: realiza una regresión lineal simple), truncate (False: la línea de regresión llega al límite del eje x)."
   ]
  },
  {
   "cell_type": "code",
   "execution_count": 7,
   "metadata": {},
   "outputs": [
    {
     "data": {
      "text/plain": [
       "Text(0, 0.5, 'Sales')"
      ]
     },
     "execution_count": 7,
     "metadata": {},
     "output_type": "execute_result"
    },
    {
     "data": {
      "image/png": "[encoded data removed]",
      "text/plain": [
       "<Figure size 432x288 with 1 Axes>"
      ]
     },
     "metadata": {},
     "output_type": "display_data"
    }
   ],
   "source": [
    "import seaborn as sns; sns.set_theme(color_codes=True) \n",
    "\n",
    "tv_marketing_corr = np.corrcoef(analyzed_sales[\"TV\"], analyzed_sales[\"sales\"])\n",
    "\n",
    "plt.ylim(-5, 85)\n",
    "tv_marketing = sns.regplot(data=analyzed_sales, x=analyzed_sales[\"TV\"], y=analyzed_sales[\"sales\"], fit_reg=True, truncate=False, color=\"blue\")\n",
    "plt.title(f\"TV correlation: {tv_marketing_corr[0][1]:.2f}\")\n",
    "plt.xlabel(\"TV\")\n",
    "plt.ylabel(\"Sales\")"
   ]
  },
  {
   "cell_type": "code",
   "execution_count": 8,
   "metadata": {},
   "outputs": [
    {
     "data": {
      "text/plain": [
       "Text(0, 0.5, 'Sales')"
      ]
     },
     "execution_count": 8,
     "metadata": {},
     "output_type": "execute_result"
    },
    {
     "data": {
      "image/png": "[encoded data removed]",
      "text/plain": [
       "<Figure size 432x288 with 1 Axes>"
      ]
     },
     "metadata": {},
     "output_type": "display_data"
    }
   ],
   "source": [
    "radio_marketing_corr = np.corrcoef(analyzed_sales[\"radio\"], analyzed_sales[\"sales\"])\n",
    "\n",
    "plt.xlim(-10, 300)\n",
    "plt.ylim(-5, 85)\n",
    "tv_marketing = sns.regplot(data=analyzed_sales, x=analyzed_sales[\"radio\"], y=analyzed_sales[\"sales\"], fit_reg=True, truncate=False, color=\"orange\")\n",
    "plt.title(f\"Radio correlation: {radio_marketing_corr[0][1]:.2f}\")\n",
    "plt.xlabel(\"Radio\")\n",
    "plt.ylabel(\"Sales\")"
   ]
  },
  {
   "cell_type": "code",
   "execution_count": 9,
   "metadata": {},
   "outputs": [
    {
     "data": {
      "text/plain": [
       "Text(0, 0.5, 'Sales')"
      ]
     },
     "execution_count": 9,
     "metadata": {},
     "output_type": "execute_result"
    },
    {
     "data": {
      "image/png": "[encoded data removed]",
      "text/plain": [
       "<Figure size 432x288 with 1 Axes>"
      ]
     },
     "metadata": {},
     "output_type": "display_data"
    }
   ],
   "source": [
    "newspaper_marketing_corr = np.corrcoef(analyzed_sales[\"newspaper\"], analyzed_sales[\"sales\"])\n",
    "\n",
    "plt.ylim(-5, 85)\n",
    "plt.xlim(-10, 300)\n",
    "tv_marketing = sns.regplot(data=analyzed_sales, x=analyzed_sales[\"newspaper\"], y=analyzed_sales[\"sales\"], fit_reg=True, truncate=False, color=\"green\")\n",
    "plt.title(f\"Newspaper correlation: {newspaper_marketing_corr[0][1]:.2f}\")\n",
    "plt.xlabel(\"Newspaper\")\n",
    "plt.ylabel(\"Sales\")"
   ]
  },
  {
   "cell_type": "markdown",
   "metadata": {},
   "source": [
    "**SEGUNDA PARTE DEL PROYECTO**"
   ]
  },
  {
   "cell_type": "markdown",
   "metadata": {},
   "source": [
    "Vamos a aumentar el dataset con las siguientes dos columnas generadas:  \n",
    "- Cantidad total invertida por venta, es decir, coste total (entre los tres canales) dividido por el número de ventas:\n"
   ]
  },
  {
   "cell_type": "code",
   "execution_count": 10,
   "metadata": {},
   "outputs": [
    {
     "data": {
      "text/html": [
       "<div>\n",
       "<style scoped>\n",
       "    .dataframe tbody tr th:only-of-type {\n",
       "        vertical-align: middle;\n",
       "    }\n",
       "\n",
       "    .dataframe tbody tr th {\n",
       "        vertical-align: top;\n",
       "    }\n",
       "\n",
       "    .dataframe thead th {\n",
       "        text-align: right;\n",
       "    }\n",
       "</style>\n",
       "<table border=\"1\" class=\"dataframe\">\n",
       "  <thead>\n",
       "    <tr style=\"text-align: right;\">\n",
       "      <th></th>\n",
       "      <th>id</th>\n",
       "      <th>TV</th>\n",
       "      <th>radio</th>\n",
       "      <th>newspaper</th>\n",
       "      <th>sales</th>\n",
       "      <th>Investment</th>\n",
       "    </tr>\n",
       "  </thead>\n",
       "  <tbody>\n",
       "    <tr>\n",
       "      <th>0</th>\n",
       "      <td>1</td>\n",
       "      <td>230.1</td>\n",
       "      <td>37.8</td>\n",
       "      <td>69.2</td>\n",
       "      <td>22.1</td>\n",
       "      <td>15.253394</td>\n",
       "    </tr>\n",
       "    <tr>\n",
       "      <th>1</th>\n",
       "      <td>2</td>\n",
       "      <td>44.5</td>\n",
       "      <td>39.3</td>\n",
       "      <td>45.1</td>\n",
       "      <td>10.4</td>\n",
       "      <td>12.394231</td>\n",
       "    </tr>\n",
       "    <tr>\n",
       "      <th>2</th>\n",
       "      <td>3</td>\n",
       "      <td>17.2</td>\n",
       "      <td>45.9</td>\n",
       "      <td>69.3</td>\n",
       "      <td>9.3</td>\n",
       "      <td>14.236559</td>\n",
       "    </tr>\n",
       "    <tr>\n",
       "      <th>3</th>\n",
       "      <td>4</td>\n",
       "      <td>151.5</td>\n",
       "      <td>41.3</td>\n",
       "      <td>58.5</td>\n",
       "      <td>18.5</td>\n",
       "      <td>13.583784</td>\n",
       "    </tr>\n",
       "    <tr>\n",
       "      <th>4</th>\n",
       "      <td>5</td>\n",
       "      <td>180.8</td>\n",
       "      <td>10.8</td>\n",
       "      <td>58.4</td>\n",
       "      <td>12.9</td>\n",
       "      <td>19.379845</td>\n",
       "    </tr>\n",
       "    <tr>\n",
       "      <th>...</th>\n",
       "      <td>...</td>\n",
       "      <td>...</td>\n",
       "      <td>...</td>\n",
       "      <td>...</td>\n",
       "      <td>...</td>\n",
       "      <td>...</td>\n",
       "    </tr>\n",
       "    <tr>\n",
       "      <th>204</th>\n",
       "      <td>195</td>\n",
       "      <td>149.7</td>\n",
       "      <td>35.6</td>\n",
       "      <td>6.0</td>\n",
       "      <td>17.3</td>\n",
       "      <td>11.057803</td>\n",
       "    </tr>\n",
       "    <tr>\n",
       "      <th>205</th>\n",
       "      <td>196</td>\n",
       "      <td>38.2</td>\n",
       "      <td>3.7</td>\n",
       "      <td>13.8</td>\n",
       "      <td>7.6</td>\n",
       "      <td>7.328947</td>\n",
       "    </tr>\n",
       "    <tr>\n",
       "      <th>206</th>\n",
       "      <td>197</td>\n",
       "      <td>94.2</td>\n",
       "      <td>4.9</td>\n",
       "      <td>8.1</td>\n",
       "      <td>9.7</td>\n",
       "      <td>11.051546</td>\n",
       "    </tr>\n",
       "    <tr>\n",
       "      <th>207</th>\n",
       "      <td>198</td>\n",
       "      <td>177.0</td>\n",
       "      <td>9.3</td>\n",
       "      <td>6.4</td>\n",
       "      <td>12.8</td>\n",
       "      <td>15.054688</td>\n",
       "    </tr>\n",
       "    <tr>\n",
       "      <th>209</th>\n",
       "      <td>200</td>\n",
       "      <td>232.1</td>\n",
       "      <td>8.6</td>\n",
       "      <td>8.7</td>\n",
       "      <td>13.4</td>\n",
       "      <td>18.611940</td>\n",
       "    </tr>\n",
       "  </tbody>\n",
       "</table>\n",
       "<p>194 rows × 6 columns</p>\n",
       "</div>"
      ],
      "text/plain": [
       "      id     TV  radio  newspaper  sales  Investment\n",
       "0      1  230.1   37.8       69.2   22.1   15.253394\n",
       "1      2   44.5   39.3       45.1   10.4   12.394231\n",
       "2      3   17.2   45.9       69.3    9.3   14.236559\n",
       "3      4  151.5   41.3       58.5   18.5   13.583784\n",
       "4      5  180.8   10.8       58.4   12.9   19.379845\n",
       "..   ...    ...    ...        ...    ...         ...\n",
       "204  195  149.7   35.6        6.0   17.3   11.057803\n",
       "205  196   38.2    3.7       13.8    7.6    7.328947\n",
       "206  197   94.2    4.9        8.1    9.7   11.051546\n",
       "207  198  177.0    9.3        6.4   12.8   15.054688\n",
       "209  200  232.1    8.6        8.7   13.4   18.611940\n",
       "\n",
       "[194 rows x 6 columns]"
      ]
     },
     "execution_count": 10,
     "metadata": {},
     "output_type": "execute_result"
    }
   ],
   "source": [
    "quantity_per_sale = (analyzed_sales[\"TV\"] + analyzed_sales[\"radio\"] + analyzed_sales[\"newspaper\"]) / analyzed_sales[\"sales\"]\n",
    "analyzed_sales[\"Investment\"] = quantity_per_sale\n",
    "analyzed_sales"
   ]
  },
  {
   "cell_type": "markdown",
   "metadata": {},
   "source": [
    "- Un valor booleano (true/false, o 0/1) que indique si la campaña de marketing fue exitosa. Una campaña es considerada exitosa si se cumplen ambas condiciones siguientes:  \n",
    "        - Cantidad total invertida por venta es menos de 20€\n",
    "        - Más de 15000 unidades fueron vendidas"
   ]
  },
  {
   "cell_type": "code",
   "execution_count": 11,
   "metadata": {},
   "outputs": [
    {
     "data": {
      "text/html": [
       "<div>\n",
       "<style scoped>\n",
       "    .dataframe tbody tr th:only-of-type {\n",
       "        vertical-align: middle;\n",
       "    }\n",
       "\n",
       "    .dataframe tbody tr th {\n",
       "        vertical-align: top;\n",
       "    }\n",
       "\n",
       "    .dataframe thead th {\n",
       "        text-align: right;\n",
       "    }\n",
       "</style>\n",
       "<table border=\"1\" class=\"dataframe\">\n",
       "  <thead>\n",
       "    <tr style=\"text-align: right;\">\n",
       "      <th></th>\n",
       "      <th>id</th>\n",
       "      <th>TV</th>\n",
       "      <th>radio</th>\n",
       "      <th>newspaper</th>\n",
       "      <th>sales</th>\n",
       "      <th>Investment</th>\n",
       "      <th>Successful</th>\n",
       "    </tr>\n",
       "  </thead>\n",
       "  <tbody>\n",
       "    <tr>\n",
       "      <th>0</th>\n",
       "      <td>1</td>\n",
       "      <td>230.1</td>\n",
       "      <td>37.8</td>\n",
       "      <td>69.2</td>\n",
       "      <td>22.1</td>\n",
       "      <td>15.253394</td>\n",
       "      <td>True</td>\n",
       "    </tr>\n",
       "    <tr>\n",
       "      <th>1</th>\n",
       "      <td>2</td>\n",
       "      <td>44.5</td>\n",
       "      <td>39.3</td>\n",
       "      <td>45.1</td>\n",
       "      <td>10.4</td>\n",
       "      <td>12.394231</td>\n",
       "      <td>False</td>\n",
       "    </tr>\n",
       "    <tr>\n",
       "      <th>2</th>\n",
       "      <td>3</td>\n",
       "      <td>17.2</td>\n",
       "      <td>45.9</td>\n",
       "      <td>69.3</td>\n",
       "      <td>9.3</td>\n",
       "      <td>14.236559</td>\n",
       "      <td>False</td>\n",
       "    </tr>\n",
       "    <tr>\n",
       "      <th>3</th>\n",
       "      <td>4</td>\n",
       "      <td>151.5</td>\n",
       "      <td>41.3</td>\n",
       "      <td>58.5</td>\n",
       "      <td>18.5</td>\n",
       "      <td>13.583784</td>\n",
       "      <td>True</td>\n",
       "    </tr>\n",
       "    <tr>\n",
       "      <th>4</th>\n",
       "      <td>5</td>\n",
       "      <td>180.8</td>\n",
       "      <td>10.8</td>\n",
       "      <td>58.4</td>\n",
       "      <td>12.9</td>\n",
       "      <td>19.379845</td>\n",
       "      <td>False</td>\n",
       "    </tr>\n",
       "    <tr>\n",
       "      <th>...</th>\n",
       "      <td>...</td>\n",
       "      <td>...</td>\n",
       "      <td>...</td>\n",
       "      <td>...</td>\n",
       "      <td>...</td>\n",
       "      <td>...</td>\n",
       "      <td>...</td>\n",
       "    </tr>\n",
       "    <tr>\n",
       "      <th>204</th>\n",
       "      <td>195</td>\n",
       "      <td>149.7</td>\n",
       "      <td>35.6</td>\n",
       "      <td>6.0</td>\n",
       "      <td>17.3</td>\n",
       "      <td>11.057803</td>\n",
       "      <td>True</td>\n",
       "    </tr>\n",
       "    <tr>\n",
       "      <th>205</th>\n",
       "      <td>196</td>\n",
       "      <td>38.2</td>\n",
       "      <td>3.7</td>\n",
       "      <td>13.8</td>\n",
       "      <td>7.6</td>\n",
       "      <td>7.328947</td>\n",
       "      <td>False</td>\n",
       "    </tr>\n",
       "    <tr>\n",
       "      <th>206</th>\n",
       "      <td>197</td>\n",
       "      <td>94.2</td>\n",
       "      <td>4.9</td>\n",
       "      <td>8.1</td>\n",
       "      <td>9.7</td>\n",
       "      <td>11.051546</td>\n",
       "      <td>False</td>\n",
       "    </tr>\n",
       "    <tr>\n",
       "      <th>207</th>\n",
       "      <td>198</td>\n",
       "      <td>177.0</td>\n",
       "      <td>9.3</td>\n",
       "      <td>6.4</td>\n",
       "      <td>12.8</td>\n",
       "      <td>15.054688</td>\n",
       "      <td>False</td>\n",
       "    </tr>\n",
       "    <tr>\n",
       "      <th>209</th>\n",
       "      <td>200</td>\n",
       "      <td>232.1</td>\n",
       "      <td>8.6</td>\n",
       "      <td>8.7</td>\n",
       "      <td>13.4</td>\n",
       "      <td>18.611940</td>\n",
       "      <td>False</td>\n",
       "    </tr>\n",
       "  </tbody>\n",
       "</table>\n",
       "<p>194 rows × 7 columns</p>\n",
       "</div>"
      ],
      "text/plain": [
       "      id     TV  radio  newspaper  sales  Investment  Successful\n",
       "0      1  230.1   37.8       69.2   22.1   15.253394        True\n",
       "1      2   44.5   39.3       45.1   10.4   12.394231       False\n",
       "2      3   17.2   45.9       69.3    9.3   14.236559       False\n",
       "3      4  151.5   41.3       58.5   18.5   13.583784        True\n",
       "4      5  180.8   10.8       58.4   12.9   19.379845       False\n",
       "..   ...    ...    ...        ...    ...         ...         ...\n",
       "204  195  149.7   35.6        6.0   17.3   11.057803        True\n",
       "205  196   38.2    3.7       13.8    7.6    7.328947       False\n",
       "206  197   94.2    4.9        8.1    9.7   11.051546       False\n",
       "207  198  177.0    9.3        6.4   12.8   15.054688       False\n",
       "209  200  232.1    8.6        8.7   13.4   18.611940       False\n",
       "\n",
       "[194 rows x 7 columns]"
      ]
     },
     "execution_count": 11,
     "metadata": {},
     "output_type": "execute_result"
    }
   ],
   "source": [
    "analyzed_sales[\"Successful\"] = np.where((analyzed_sales[\"Investment\"] < 20) & (analyzed_sales[\"sales\"] > 15), True, False)\n",
    "#indicamos el valor que queremos que se muestre si la condición múltiple se cumple (True)\n",
    "analyzed_sales"
   ]
  },
  {
   "cell_type": "code",
   "execution_count": 12,
   "metadata": {},
   "outputs": [
    {
     "data": {
      "text/plain": [
       "False    124\n",
       "True      70\n",
       "Name: Successful, dtype: int64"
      ]
     },
     "execution_count": 12,
     "metadata": {},
     "output_type": "execute_result"
    }
   ],
   "source": [
    "analyzed_sales.Successful.value_counts()"
   ]
  },
  {
   "cell_type": "markdown",
   "metadata": {},
   "source": [
    "De acuerdo a los resultados obtenidos, teniendo en cuenta ambas condiciones, el número de campañas que fueron exitosas es de 70 campañas frente a las 194 realizadas."
   ]
  },
  {
   "cell_type": "markdown",
   "metadata": {},
   "source": [
    "**TERCERA PARTE DEL PROYECTO**"
   ]
  },
  {
   "cell_type": "markdown",
   "metadata": {},
   "source": [
    "- Crear un conjunto de entrenamiento seleccionando las filas con id <= 160,  \n",
    "utilizando sklearn.model_selection.train_test_split()"
   ]
  },
  {
   "cell_type": "code",
   "execution_count": 13,
   "metadata": {},
   "outputs": [],
   "source": [
    "from sklearn.model_selection import train_test_split\n",
    "\n",
    "x = analyzed_sales[[\"TV\", \"radio\", \"newspaper\"]]\n",
    "y = analyzed_sales[\"Successful\"]\n",
    "x_train, x_test, y_train, y_test = train_test_split(x, y, train_size=0.8, random_state=42, shuffle=False)"
   ]
  },
  {
   "cell_type": "markdown",
   "metadata": {},
   "source": [
    "- Entrenar un clasificador Gaussian Naive-Bayes para determinar si una campaña será exitosa dadas las cantidades empleadas en cada canal de marketing:"
   ]
  },
  {
   "cell_type": "code",
   "execution_count": 14,
   "metadata": {},
   "outputs": [
    {
     "name": "stdout",
     "output_type": "stream",
     "text": [
      "Precisión en el set de entrenamiento GaussianNB(): 0.94\n"
     ]
    }
   ],
   "source": [
    "from sklearn.naive_bayes import GaussianNB\n",
    "\n",
    "clf = GaussianNB()\n",
    "clf.fit(x_train, y_train)\n",
    "score = clf.score(x_train, y_train)\n",
    "print(f\"Precisión en el set de entrenamiento {clf}: {score:.2f}\")"
   ]
  },
  {
   "cell_type": "markdown",
   "metadata": {},
   "source": [
    "Podemos utilizar otros clasificadores alternativos como regresión logística, para ver cuál de ellos tiene una mayor precisión:"
   ]
  },
  {
   "cell_type": "code",
   "execution_count": 15,
   "metadata": {},
   "outputs": [
    {
     "name": "stdout",
     "output_type": "stream",
     "text": [
      "Precisión en el set de entrenamiento LogisticRegression(random_state=0): 0.93\n"
     ]
    }
   ],
   "source": [
    "from sklearn.linear_model import LogisticRegression\n",
    "\n",
    "clf = LogisticRegression(random_state=0)\n",
    "clf.fit(x_train, y_train)\n",
    "score = clf.score(x_train, y_train)\n",
    "print(f\"Precisión en el set de entrenamiento {clf}: {score:.2f}\")"
   ]
  },
  {
   "cell_type": "markdown",
   "metadata": {},
   "source": [
    "**CUARTA PARTE DEL PROYECTO**"
   ]
  },
  {
   "cell_type": "markdown",
   "metadata": {},
   "source": [
    "- Crear un conjunto de prueba seleccionando las filas con id > 160:"
   ]
  },
  {
   "cell_type": "code",
   "execution_count": 16,
   "metadata": {},
   "outputs": [
    {
     "name": "stdout",
     "output_type": "stream",
     "text": [
      "Precisión en el set de prueba GaussianNB(): 0.97\n"
     ]
    }
   ],
   "source": [
    "clf = GaussianNB()\n",
    "clf.fit(x_train, y_train)\n",
    "score = clf.score(x_test, y_test)\n",
    "print(f\"Precisión en el set de prueba {clf}: {score:.2f}\")"
   ]
  },
  {
   "cell_type": "code",
   "execution_count": 17,
   "metadata": {},
   "outputs": [
    {
     "name": "stdout",
     "output_type": "stream",
     "text": [
      "Precisión en el set de prueba LogisticRegression(random_state=0): 0.97\n"
     ]
    }
   ],
   "source": [
    "clf = LogisticRegression(random_state=0)\n",
    "clf.fit(x_train, y_train)\n",
    "score = clf.score(x_test, y_test)\n",
    "print(f\"Precisión en el set de prueba {clf}: {score:.2f}\")"
   ]
  },
  {
   "cell_type": "markdown",
   "metadata": {},
   "source": [
    "En este caso podemos ver que ambas prediciones son más exactas que en el set de entrenamiento."
   ]
  },
  {
   "cell_type": "markdown",
   "metadata": {},
   "source": [
    "- ¿Cuál es el número de falsos positivos y falsos negativos?  \n",
    "- ¿Cuál es la proporción de cada uno de ellos sobre el total de predicciones? "
   ]
  },
  {
   "cell_type": "code",
   "execution_count": 18,
   "metadata": {},
   "outputs": [
    {
     "data": {
      "image/png": "[encoded data removed]",
      "text/plain": [
       "<Figure size 288x288 with 1 Axes>"
      ]
     },
     "metadata": {},
     "output_type": "display_data"
    }
   ],
   "source": [
    "from sklearn.metrics import confusion_matrix, precision_score\n",
    "\n",
    "clf = GaussianNB()\n",
    "clf.fit(x_train, y_train)\n",
    "\n",
    "conf_matr = confusion_matrix(y_test, clf.predict(x_test))\n",
    "fig, ax = plt.subplots(figsize=(4, 4))\n",
    "ax.matshow(conf_matr)\n",
    "ax.grid(False)\n",
    "plt.title(f\"Matriz de confusión {clf}\")\n",
    "plt.ylabel(\"Valor\")\n",
    "plt.xlabel(\"Predicción\")\n",
    "for i in range(2):\n",
    "    for j in range(2):\n",
    "        ax.text(j, i, conf_matr[i, j], ha=\"center\", va=\"center\")\n",
    "plt.show()"
   ]
  },
  {
   "cell_type": "markdown",
   "metadata": {},
   "source": [
    "El valor marcado en rosa claro (0,0) = 28 VP (verdadero positivo).    \n",
    "El valor marcado en fucsia (1,1) = 10 VN (verdadero negativo).    \n",
    "Los valores marcados en negro: (0,1) = 1 FN (falso negativo), (1,0) = 0 FP (falso positivo)."
   ]
  },
  {
   "cell_type": "code",
   "execution_count": 20,
   "metadata": {},
   "outputs": [
    {
     "data": {
      "image/png": "[encoded data removed]",
      "text/plain": [
       "<Figure size 288x288 with 1 Axes>"
      ]
     },
     "metadata": {},
     "output_type": "display_data"
    }
   ],
   "source": [
    "clf = LogisticRegression(random_state=0)\n",
    "clf.fit(x_train, y_train)\n",
    "\n",
    "conf_matr = confusion_matrix(y_test, clf.predict(x_test))\n",
    "fig, ax = plt.subplots(figsize=(4, 4))\n",
    "ax.matshow(conf_matr)\n",
    "ax.grid(False)\n",
    "plt.title(f\"Matriz de confusión {clf}\")\n",
    "plt.ylabel(\"Valor\")\n",
    "plt.xlabel(\"Predicción\")\n",
    "for i in range(2):\n",
    "    for j in range(2):\n",
    "        ax.text(j, i, conf_matr[i, j], ha=\"center\", va=\"center\")\n",
    "plt.show()"
   ]
  },
  {
   "cell_type": "markdown",
   "metadata": {},
   "source": [
    "El valor marcado en rosa claro (0,0) = 27 VP (verdadero positivo).  \n",
    "El valor marcado en fucsia (1,1) = 11 VN (verdadero negativo).  \n",
    "Los valores marcados en negro: (0,1) = 0 FN (falso negativo), (1,0) = 1 FP (falso positivo)"
   ]
  },
  {
   "cell_type": "markdown",
   "metadata": {},
   "source": [
    "- ¿Qué porcentaje del conjunto de prueba fue clasificado correctamente (aciertos sobre el total)?  \n",
    "   Es deseable que este número llegue al menos al 80%:"
   ]
  },
  {
   "cell_type": "code",
   "execution_count": 21,
   "metadata": {},
   "outputs": [
    {
     "name": "stdout",
     "output_type": "stream",
     "text": [
      "La precisión en el conjunto de prueba GaussianNB() es: 1.00\n"
     ]
    }
   ],
   "source": [
    "clf = GaussianNB()\n",
    "clf.fit(x_train, y_train)\n",
    "\n",
    "y_predict = clf.predict(x_test)\n",
    "y_value = y_test\n",
    "precision = precision_score(y_value, y_predict)\n",
    "print(f\"La precisión en el conjunto de prueba {clf} es: {precision:.2f}\")"
   ]
  },
  {
   "cell_type": "code",
   "execution_count": 22,
   "metadata": {},
   "outputs": [
    {
     "name": "stdout",
     "output_type": "stream",
     "text": [
      "La precisión en el conjunto de prueba LogisticRegression(random_state=0) es: 0.92\n"
     ]
    }
   ],
   "source": [
    "clf = LogisticRegression(random_state=0)\n",
    "clf.fit(x_train, y_train)\n",
    "\n",
    "y_predict = clf.predict(x_test)\n",
    "y_value = y_test\n",
    "precision = precision_score(y_value, y_predict)\n",
    "print(f\"La precisión en el conjunto de prueba {clf} es: {precision:.2f}\")"
   ]
  },
  {
   "cell_type": "markdown",
   "metadata": {},
   "source": [
    "Observamos que ambos clasificadores tienen un porcentaje de precisión en el conjunto de prueba por encima del 80%, siendo el más preciso el clasificador Gaussian Naive-Bayes."
   ]
  }
 ],
 "metadata": {
  "kernelspec": {
   "display_name": "Python 3",
   "language": "python",
   "name": "python3"
  },
  "language_info": {
   "codemirror_mode": {
    "name": "ipython",
    "version": 3
   },
   "file_extension": ".py",
   "mimetype": "text/x-python",
   "name": "python",
   "nbconvert_exporter": "python",
   "pygments_lexer": "ipython3",
   "version": "3.8.2"
  }
 },
 "nbformat": 4,
 "nbformat_minor": 4
}
